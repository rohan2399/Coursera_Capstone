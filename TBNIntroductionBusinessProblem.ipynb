{
 "cells": [
  {
   "cell_type": "markdown",
   "metadata": {},
   "source": [
    "# The Battle of Neighborhoods: Introduction/Business Problem\n",
    "## Introduction:\n",
    "The main objective of this project is to help people in exploring better facilities around their neighborhood. It will help people in making a smart and efficient decision on choosing excellent neighborhoods out of numbers of other neighborhoods in Scarborough, Toronto.\n",
    "\n",
    "Many people are migrating to many different states of Canada and need a lot of research for sound housing prices and reputed schools for their children. This project is for those people who are looking for better neighborhoods. For ease of accessing to Cafe, School, Supermarket, medical shops, grocery shops, mall, theatre, hospital, like-minded people, etc.\n",
    "\n",
    "This project intends to create an analysis of features for people who are migrating to Scarborough in search of the best neighborhood as a relative analysis between neighborhoods. The highlights include median housing price and better school according to ratings, crime rates of that particular area, road connectivity, weather conditions, good management for an emergency, water resources both fresh and wastewater and excrement conveyed in sewers and recreational facilities.\n",
    "\n",
    "It will help people to get the awareness of the area and neighborhood before moving to a new city, state, country or place for their work or to start a new fresh life.\n",
    "\n",
    "## Problem Which Tried to Solve:\n",
    "The major goal of this project is to recommend a better neighborhood in a new city for the person who is moving there. Social presence in society in terms of like-minded people. Connectivity to the airport, bus stand, city center, markets and other daily needs things nearby.\n",
    "\n",
    "1) Sorted list of the house in terms of housing prices in an ascending or descending order\n",
    "\n",
    "2) Sorted list of schools in terms of location, fees, rating, and reviews\n",
    "\n",
    "## The Location:\n",
    "Scarborough is a favorite destination for new immigrants in Canada to reside in. As a result, it is one of the most distinct and multicultural areas in the Greater Toronto Area, being home to various religious groups and places of worship. Although immigration has become a hot topic over the past few years with more governments seeking more constraints on immigrants and refugees, the general trend of immigration into Canada has been one of the rises.\n",
    "\n",
    "## Foursquare API:\n",
    "This project would use Four-square API as its prime data collecting source as it has a database of millions of places, notably their places API which provides the capacity to perform location search, location sharing and details about a business.\n",
    "\n",
    "## Work Flow:\n",
    "Using credentials of Foursquare API features of near-by places of the neighborhoods would be mined. Due to HTTP request restrictions, the number of places per neighborhood parameter would reasonably be set to 100 and the radius parameter would be set to 500.\n",
    "\n",
    "## Clustering Strategy:\n",
    "To compare the similarities of two cities, we decided to examine neighborhoods, segment them, and group them into clusters to find similar neighborhoods in a big city like New York and Toronto. To be able to do that, we need to cluster data which is a form of unsupervised machine learning: a k-means clustering algorithm\n",
    "\n",
    "## Libraries Which are Used to Develope the Project:\n",
    "Pandas: To create and manipulate data frames.\n",
    "Folium: Python visualization library would be used to visualize the neighborhood cluster distribution of using an interactive leaflet map.\n",
    "Scikit Learn: To import k-means clustering.\n",
    "JSON: Library to handle JSON files.\n",
    "XML: To separate data from presentation and XML stores data in plain text format.\n",
    "Geocoder: To retrieve Location Data.\n",
    "Beautiful Soup and Requests: To scrap and library to handle HTTP requests.\n",
    "Matplotlib: To Python Plotting Module."
   ]
  },
  {
   "cell_type": "code",
   "execution_count": null,
   "metadata": {},
   "outputs": [],
   "source": []
  }
 ],
 "metadata": {
  "kernelspec": {
   "display_name": "Python",
   "language": "python",
   "name": "conda-env-python-py"
  },
  "language_info": {
   "codemirror_mode": {
    "name": "ipython",
    "version": 3
   },
   "file_extension": ".py",
   "mimetype": "text/x-python",
   "name": "python",
   "nbconvert_exporter": "python",
   "pygments_lexer": "ipython3",
   "version": "3.6.10"
  }
 },
 "nbformat": 4,
 "nbformat_minor": 4
}
